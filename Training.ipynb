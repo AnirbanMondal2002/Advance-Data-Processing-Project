{
 "cells": [
  {
   "cell_type": "code",
   "execution_count": 7,
   "id": "95a52346-ba38-45b5-a564-ea83048ad008",
   "metadata": {},
   "outputs": [
    {
     "data": {
      "text/html": [
       "<div>\n",
       "<style scoped>\n",
       "    .dataframe tbody tr th:only-of-type {\n",
       "        vertical-align: middle;\n",
       "    }\n",
       "\n",
       "    .dataframe tbody tr th {\n",
       "        vertical-align: top;\n",
       "    }\n",
       "\n",
       "    .dataframe thead th {\n",
       "        text-align: right;\n",
       "    }\n",
       "</style>\n",
       "<table border=\"1\" class=\"dataframe\">\n",
       "  <thead>\n",
       "    <tr style=\"text-align: right;\">\n",
       "      <th></th>\n",
       "      <th>transaction_id</th>\n",
       "      <th>user_id</th>\n",
       "      <th>amount</th>\n",
       "      <th>location</th>\n",
       "      <th>transaction_type</th>\n",
       "      <th>fraud_probability</th>\n",
       "    </tr>\n",
       "  </thead>\n",
       "  <tbody>\n",
       "    <tr>\n",
       "      <th>0</th>\n",
       "      <td>500278</td>\n",
       "      <td>236</td>\n",
       "      <td>1087.98</td>\n",
       "      <td>Los Angeles</td>\n",
       "      <td>Online</td>\n",
       "      <td>0.84</td>\n",
       "    </tr>\n",
       "    <tr>\n",
       "      <th>1</th>\n",
       "      <td>566538</td>\n",
       "      <td>176</td>\n",
       "      <td>4424.95</td>\n",
       "      <td>Los Angeles</td>\n",
       "      <td>Online</td>\n",
       "      <td>0.36</td>\n",
       "    </tr>\n",
       "    <tr>\n",
       "      <th>2</th>\n",
       "      <td>518238</td>\n",
       "      <td>754</td>\n",
       "      <td>1330.54</td>\n",
       "      <td>Los Angeles</td>\n",
       "      <td>Online</td>\n",
       "      <td>0.86</td>\n",
       "    </tr>\n",
       "    <tr>\n",
       "      <th>3</th>\n",
       "      <td>595525</td>\n",
       "      <td>855</td>\n",
       "      <td>243.23</td>\n",
       "      <td>Los Angeles</td>\n",
       "      <td>Offline</td>\n",
       "      <td>0.15</td>\n",
       "    </tr>\n",
       "    <tr>\n",
       "      <th>4</th>\n",
       "      <td>482449</td>\n",
       "      <td>458</td>\n",
       "      <td>1614.09</td>\n",
       "      <td>Los Angeles</td>\n",
       "      <td>Online</td>\n",
       "      <td>0.84</td>\n",
       "    </tr>\n",
       "  </tbody>\n",
       "</table>\n",
       "</div>"
      ],
      "text/plain": [
       "   transaction_id  user_id   amount     location transaction_type  \\\n",
       "0          500278      236  1087.98  Los Angeles           Online   \n",
       "1          566538      176  4424.95  Los Angeles           Online   \n",
       "2          518238      754  1330.54  Los Angeles           Online   \n",
       "3          595525      855   243.23  Los Angeles          Offline   \n",
       "4          482449      458  1614.09  Los Angeles           Online   \n",
       "\n",
       "   fraud_probability  \n",
       "0               0.84  \n",
       "1               0.36  \n",
       "2               0.86  \n",
       "3               0.15  \n",
       "4               0.84  "
      ]
     },
     "execution_count": 7,
     "metadata": {},
     "output_type": "execute_result"
    }
   ],
   "source": [
    "import pandas as pd\n",
    "import boto3\n",
    "\n",
    "s3_bucket = \"fraud-detection-buckets\"\n",
    "s3_key = \"transformed/fraud_data.csv\"\n",
    "\n",
    "s3 = boto3.client(\"s3\")\n",
    "obj = s3.get_object(Bucket=s3_bucket, Key=s3_key)\n",
    "\n",
    "df = pd.read_csv(obj[\"Body\"])\n",
    "df.head()\n"
   ]
  },
  {
   "cell_type": "code",
   "execution_count": 8,
   "id": "ec5a9c13-256a-4185-b1e6-6da56ed43b5d",
   "metadata": {},
   "outputs": [],
   "source": [
    "from sklearn.model_selection import train_test_split\n",
    "\n",
    "# Define features and target\n",
    "X = df[['transaction_id', 'user_id', 'amount', 'location', 'transaction_type']]  # keep numeric + categorical\n",
    "y = df['fraud_probability']\n",
    "\n",
    "# One-hot encode categorical features\n",
    "X = pd.get_dummies(X, columns=['transaction_type'])\n",
    "\n",
    "# Split data into train and test\n",
    "X_train, X_test, y_train, y_test = train_test_split(X, y, test_size=0.2, random_state=42)"
   ]
  },
  {
   "cell_type": "code",
   "execution_count": 9,
   "id": "f2a31064-36d1-4d9a-821e-206c6fa48b50",
   "metadata": {},
   "outputs": [],
   "source": [
    "train_df = pd.concat([y_train, X_train], axis=1)\n",
    "test_df = pd.concat([y_test, X_test], axis=1)\n",
    "\n",
    "train_file = \"train_data.csv\"\n",
    "test_file = \"test_data.csv\"\n",
    "\n",
    "train_df.to_csv(train_file, index=False, header=False)\n",
    "test_df.to_csv(test_file, index=False, header=False)\n",
    "\n",
    "# Upload to S3\n",
    "s3_resource = boto3.resource(\"s3\")\n",
    "s3_resource.Bucket(s3_bucket).upload_file(train_file, \"ml/train/train_data.csv\")\n",
    "s3_resource.Bucket(s3_bucket).upload_file(test_file, \"ml/test/test_data.csv\")"
   ]
  },
  {
   "cell_type": "code",
   "execution_count": 10,
   "id": "63406c7b-72f6-4af1-a9f3-8ea82822736d",
   "metadata": {},
   "outputs": [
    {
     "data": {
      "text/html": [
       "<pre style=\"white-space:pre;overflow-x:auto;line-height:normal;font-family:Menlo,'DejaVu Sans Mono',consolas,'Courier New',monospace\"><span style=\"color: #7fbfbf; text-decoration-color: #7fbfbf\">[04/06/25 14:54:55] </span><span style=\"color: #0069ff; text-decoration-color: #0069ff; font-weight: bold\">INFO    </span> Ignoring unnecessary instance type: <span style=\"color: #e100e1; text-decoration-color: #e100e1; font-style: italic\">None</span>.                            <a href=\"file:///home/ec2-user/anaconda3/envs/python3/lib/python3.10/site-packages/sagemaker/image_uris.py\" target=\"_blank\"><span style=\"color: #7f7f7f; text-decoration-color: #7f7f7f\">image_uris.py</span></a><span style=\"color: #7f7f7f; text-decoration-color: #7f7f7f\">:</span><a href=\"file:///home/ec2-user/anaconda3/envs/python3/lib/python3.10/site-packages/sagemaker/image_uris.py#530\" target=\"_blank\"><span style=\"color: #7f7f7f; text-decoration-color: #7f7f7f\">530</span></a>\n",
       "</pre>\n"
      ],
      "text/plain": [
       "\u001b[2;36m[04/06/25 14:54:55]\u001b[0m\u001b[2;36m \u001b[0m\u001b[1;38;2;0;105;255mINFO    \u001b[0m Ignoring unnecessary instance type: \u001b[3;38;2;225;0;225mNone\u001b[0m.                            \u001b]8;id=700305;file:///home/ec2-user/anaconda3/envs/python3/lib/python3.10/site-packages/sagemaker/image_uris.py\u001b\\\u001b[2mimage_uris.py\u001b[0m\u001b]8;;\u001b\\\u001b[2m:\u001b[0m\u001b]8;id=430806;file:///home/ec2-user/anaconda3/envs/python3/lib/python3.10/site-packages/sagemaker/image_uris.py#530\u001b\\\u001b[2m530\u001b[0m\u001b]8;;\u001b\\\n"
      ]
     },
     "metadata": {},
     "output_type": "display_data"
    },
    {
     "data": {
      "text/html": [
       "<pre style=\"white-space:pre;overflow-x:auto;line-height:normal;font-family:Menlo,'DejaVu Sans Mono',consolas,'Courier New',monospace\"><span style=\"color: #7fbfbf; text-decoration-color: #7fbfbf\">                    </span><span style=\"color: #0069ff; text-decoration-color: #0069ff; font-weight: bold\">INFO    </span> SageMaker Python SDK will collect telemetry to help us better  <a href=\"file:///home/ec2-user/anaconda3/envs/python3/lib/python3.10/site-packages/sagemaker/telemetry/telemetry_logging.py\" target=\"_blank\"><span style=\"color: #7f7f7f; text-decoration-color: #7f7f7f\">telemetry_logging.py</span></a><span style=\"color: #7f7f7f; text-decoration-color: #7f7f7f\">:</span><a href=\"file:///home/ec2-user/anaconda3/envs/python3/lib/python3.10/site-packages/sagemaker/telemetry/telemetry_logging.py#91\" target=\"_blank\"><span style=\"color: #7f7f7f; text-decoration-color: #7f7f7f\">91</span></a>\n",
       "<span style=\"color: #7fbfbf; text-decoration-color: #7fbfbf\">                    </span>         understand our user's needs, diagnose issues, and deliver      <span style=\"color: #7f7f7f; text-decoration-color: #7f7f7f\">                       </span>\n",
       "<span style=\"color: #7fbfbf; text-decoration-color: #7fbfbf\">                    </span>         additional features.                                           <span style=\"color: #7f7f7f; text-decoration-color: #7f7f7f\">                       </span>\n",
       "<span style=\"color: #7fbfbf; text-decoration-color: #7fbfbf\">                    </span>         To opt out of telemetry, please disable via TelemetryOptOut    <span style=\"color: #7f7f7f; text-decoration-color: #7f7f7f\">                       </span>\n",
       "<span style=\"color: #7fbfbf; text-decoration-color: #7fbfbf\">                    </span>         parameter in SDK defaults config. For more information, refer  <span style=\"color: #7f7f7f; text-decoration-color: #7f7f7f\">                       </span>\n",
       "<span style=\"color: #7fbfbf; text-decoration-color: #7fbfbf\">                    </span>         to                                                             <span style=\"color: #7f7f7f; text-decoration-color: #7f7f7f\">                       </span>\n",
       "<span style=\"color: #7fbfbf; text-decoration-color: #7fbfbf\">                    </span>         <span style=\"color: #0069ff; text-decoration-color: #0069ff; text-decoration: underline\">https://sagemaker.readthedocs.io/en/stable/overview.html#confi</span> <span style=\"color: #7f7f7f; text-decoration-color: #7f7f7f\">                       </span>\n",
       "<span style=\"color: #7fbfbf; text-decoration-color: #7fbfbf\">                    </span>         <span style=\"color: #0069ff; text-decoration-color: #0069ff; text-decoration: underline\">guring-and-using-defaults-with-the-sagemaker-python-sdk.</span>       <span style=\"color: #7f7f7f; text-decoration-color: #7f7f7f\">                       </span>\n",
       "</pre>\n"
      ],
      "text/plain": [
       "\u001b[2;36m                   \u001b[0m\u001b[2;36m \u001b[0m\u001b[1;38;2;0;105;255mINFO    \u001b[0m SageMaker Python SDK will collect telemetry to help us better  \u001b]8;id=306841;file:///home/ec2-user/anaconda3/envs/python3/lib/python3.10/site-packages/sagemaker/telemetry/telemetry_logging.py\u001b\\\u001b[2mtelemetry_logging.py\u001b[0m\u001b]8;;\u001b\\\u001b[2m:\u001b[0m\u001b]8;id=995934;file:///home/ec2-user/anaconda3/envs/python3/lib/python3.10/site-packages/sagemaker/telemetry/telemetry_logging.py#91\u001b\\\u001b[2m91\u001b[0m\u001b]8;;\u001b\\\n",
       "\u001b[2;36m                    \u001b[0m         understand our user's needs, diagnose issues, and deliver      \u001b[2m                       \u001b[0m\n",
       "\u001b[2;36m                    \u001b[0m         additional features.                                           \u001b[2m                       \u001b[0m\n",
       "\u001b[2;36m                    \u001b[0m         To opt out of telemetry, please disable via TelemetryOptOut    \u001b[2m                       \u001b[0m\n",
       "\u001b[2;36m                    \u001b[0m         parameter in SDK defaults config. For more information, refer  \u001b[2m                       \u001b[0m\n",
       "\u001b[2;36m                    \u001b[0m         to                                                             \u001b[2m                       \u001b[0m\n",
       "\u001b[2;36m                    \u001b[0m         \u001b[4;38;2;0;105;255mhttps://sagemaker.readthedocs.io/en/stable/overview.html#confi\u001b[0m \u001b[2m                       \u001b[0m\n",
       "\u001b[2;36m                    \u001b[0m         \u001b[4;38;2;0;105;255mguring-and-using-defaults-with-the-sagemaker-python-sdk.\u001b[0m       \u001b[2m                       \u001b[0m\n"
      ]
     },
     "metadata": {},
     "output_type": "display_data"
    },
    {
     "data": {
      "text/html": [
       "<pre style=\"white-space:pre;overflow-x:auto;line-height:normal;font-family:Menlo,'DejaVu Sans Mono',consolas,'Courier New',monospace\"><span style=\"color: #7fbfbf; text-decoration-color: #7fbfbf\">                    </span><span style=\"color: #0069ff; text-decoration-color: #0069ff; font-weight: bold\">INFO    </span> Creating training-job with name:                                       <a href=\"file:///home/ec2-user/anaconda3/envs/python3/lib/python3.10/site-packages/sagemaker/session.py\" target=\"_blank\"><span style=\"color: #7f7f7f; text-decoration-color: #7f7f7f\">session.py</span></a><span style=\"color: #7f7f7f; text-decoration-color: #7f7f7f\">:</span><a href=\"file:///home/ec2-user/anaconda3/envs/python3/lib/python3.10/site-packages/sagemaker/session.py#1042\" target=\"_blank\"><span style=\"color: #7f7f7f; text-decoration-color: #7f7f7f\">1042</span></a>\n",
       "<span style=\"color: #7fbfbf; text-decoration-color: #7fbfbf\">                    </span>         sagemaker-xgboost-<span style=\"color: #008080; text-decoration-color: #008080; font-weight: bold\">2025</span>-04-06-14-54-55-302                              <span style=\"color: #7f7f7f; text-decoration-color: #7f7f7f\">               </span>\n",
       "</pre>\n"
      ],
      "text/plain": [
       "\u001b[2;36m                   \u001b[0m\u001b[2;36m \u001b[0m\u001b[1;38;2;0;105;255mINFO    \u001b[0m Creating training-job with name:                                       \u001b]8;id=515487;file:///home/ec2-user/anaconda3/envs/python3/lib/python3.10/site-packages/sagemaker/session.py\u001b\\\u001b[2msession.py\u001b[0m\u001b]8;;\u001b\\\u001b[2m:\u001b[0m\u001b]8;id=607381;file:///home/ec2-user/anaconda3/envs/python3/lib/python3.10/site-packages/sagemaker/session.py#1042\u001b\\\u001b[2m1042\u001b[0m\u001b]8;;\u001b\\\n",
       "\u001b[2;36m                    \u001b[0m         sagemaker-xgboost-\u001b[1;36m2025\u001b[0m-04-06-14-54-55-302                              \u001b[2m               \u001b[0m\n"
      ]
     },
     "metadata": {},
     "output_type": "display_data"
    },
    {
     "name": "stdout",
     "output_type": "stream",
     "text": [
      "2025-04-06 14:55:00 Starting - Starting the training job...\n",
      "2025-04-06 14:55:15 Starting - Preparing the instances for training...\n",
      "2025-04-06 14:55:37 Downloading - Downloading input data...\n",
      "2025-04-06 14:56:28 Downloading - Downloading the training image......\n",
      "2025-04-06 14:57:29 Training - Training image download completed. Training in progress.\n",
      "2025-04-06 14:57:29 Uploading - Uploading generated training model\u001b[34m/miniconda3/lib/python3.8/site-packages/xgboost/compat.py:36: FutureWarning: pandas.Int64Index is deprecated and will be removed from pandas in a future version. Use pandas.Index with the appropriate dtype instead.\n",
      "  from pandas import MultiIndex, Int64Index\u001b[0m\n",
      "\u001b[34m[2025-04-06 14:57:24.180 ip-10-2-77-208.ec2.internal:7 INFO utils.py:28] RULE_JOB_STOP_SIGNAL_FILENAME: None\u001b[0m\n",
      "\u001b[34m[2025-04-06 14:57:24.210 ip-10-2-77-208.ec2.internal:7 INFO profiler_config_parser.py:111] User has disabled profiler.\u001b[0m\n",
      "\u001b[34m[2025-04-06:14:57:24:INFO] Imported framework sagemaker_xgboost_container.training\u001b[0m\n",
      "\u001b[34m[2025-04-06:14:57:24:INFO] Failed to parse hyperparameter objective value reg:squarederror to Json.\u001b[0m\n",
      "\u001b[34mReturning the value itself\u001b[0m\n",
      "\u001b[34m[2025-04-06:14:57:24:INFO] No GPUs detected (normal if no gpus installed)\u001b[0m\n",
      "\u001b[34m[2025-04-06:14:57:24:INFO] Running XGBoost Sagemaker in algorithm mode\u001b[0m\n",
      "\u001b[34m[2025-04-06:14:57:24:INFO] Determined 0 GPU(s) available on the instance.\u001b[0m\n",
      "\u001b[34m[2025-04-06:14:57:24:INFO] Determined delimiter of CSV input is ','\u001b[0m\n",
      "\u001b[34m[2025-04-06:14:57:24:INFO] files path: /opt/ml/input/data/train\u001b[0m\n",
      "\u001b[34m[2025-04-06:14:57:24:INFO] Determined delimiter of CSV input is ','\u001b[0m\n",
      "\u001b[34m[2025-04-06:14:57:24:INFO] Single node training.\u001b[0m\n",
      "\u001b[34m[2025-04-06:14:57:24:INFO] Train matrix has 870 rows and 6 columns\u001b[0m\n",
      "\u001b[34m[2025-04-06 14:57:24.615 ip-10-2-77-208.ec2.internal:7 INFO json_config.py:92] Creating hook from json_config at /opt/ml/input/config/debughookconfig.json.\u001b[0m\n",
      "\u001b[34m[2025-04-06 14:57:24.616 ip-10-2-77-208.ec2.internal:7 INFO hook.py:206] tensorboard_dir has not been set for the hook. SMDebug will not be exporting tensorboard summaries.\u001b[0m\n",
      "\u001b[34m[2025-04-06 14:57:24.617 ip-10-2-77-208.ec2.internal:7 INFO hook.py:259] Saving to /opt/ml/output/tensors\u001b[0m\n",
      "\u001b[34m[2025-04-06 14:57:24.617 ip-10-2-77-208.ec2.internal:7 INFO state_store.py:77] The checkpoint config file /opt/ml/input/config/checkpointconfig.json does not exist.\u001b[0m\n",
      "\u001b[34m[2025-04-06:14:57:24:INFO] Debug hook created from config\u001b[0m\n",
      "\u001b[34m[0]#011train-rmse:0.28524\u001b[0m\n",
      "\u001b[34m[2025-04-06 14:57:24.636 ip-10-2-77-208.ec2.internal:7 INFO hook.py:427] Monitoring the collections: metrics\u001b[0m\n",
      "\u001b[34m[2025-04-06 14:57:24.640 ip-10-2-77-208.ec2.internal:7 INFO hook.py:491] Hook is writing from the hook with pid: 7\u001b[0m\n",
      "\u001b[34m[1]#011train-rmse:0.27723\u001b[0m\n",
      "\u001b[34m[2]#011train-rmse:0.26681\u001b[0m\n",
      "\u001b[34m[3]#011train-rmse:0.25770\u001b[0m\n",
      "\u001b[34m[4]#011train-rmse:0.24917\u001b[0m\n",
      "\u001b[34m[5]#011train-rmse:0.24236\u001b[0m\n",
      "\u001b[34m[6]#011train-rmse:0.23109\u001b[0m\n",
      "\u001b[34m[7]#011train-rmse:0.22306\u001b[0m\n",
      "\u001b[34m[8]#011train-rmse:0.22090\u001b[0m\n",
      "\u001b[34m[9]#011train-rmse:0.21331\u001b[0m\n",
      "\u001b[34m[10]#011train-rmse:0.20810\u001b[0m\n",
      "\u001b[34m[11]#011train-rmse:0.20472\u001b[0m\n",
      "\u001b[34m[12]#011train-rmse:0.20220\u001b[0m\n",
      "\u001b[34m[13]#011train-rmse:0.19632\u001b[0m\n",
      "\u001b[34m[14]#011train-rmse:0.19163\u001b[0m\n",
      "\u001b[34m[15]#011train-rmse:0.18882\u001b[0m\n",
      "\u001b[34m[16]#011train-rmse:0.18634\u001b[0m\n",
      "\u001b[34m[17]#011train-rmse:0.18485\u001b[0m\n",
      "\u001b[34m[18]#011train-rmse:0.18208\u001b[0m\n",
      "\u001b[34m[19]#011train-rmse:0.18171\u001b[0m\n",
      "\u001b[34m[20]#011train-rmse:0.17898\u001b[0m\n",
      "\u001b[34m[21]#011train-rmse:0.17596\u001b[0m\n",
      "\u001b[34m[22]#011train-rmse:0.17542\u001b[0m\n",
      "\u001b[34m[23]#011train-rmse:0.17350\u001b[0m\n",
      "\u001b[34m[24]#011train-rmse:0.16996\u001b[0m\n",
      "\u001b[34m[25]#011train-rmse:0.16523\u001b[0m\n",
      "\u001b[34m[26]#011train-rmse:0.16362\u001b[0m\n",
      "\u001b[34m[27]#011train-rmse:0.15943\u001b[0m\n",
      "\u001b[34m[28]#011train-rmse:0.15564\u001b[0m\n",
      "\u001b[34m[29]#011train-rmse:0.15239\u001b[0m\n",
      "\u001b[34m[30]#011train-rmse:0.14907\u001b[0m\n",
      "\u001b[34m[31]#011train-rmse:0.14623\u001b[0m\n",
      "\u001b[34m[32]#011train-rmse:0.14156\u001b[0m\n",
      "\u001b[34m[33]#011train-rmse:0.14069\u001b[0m\n",
      "\u001b[34m[34]#011train-rmse:0.14005\u001b[0m\n",
      "\u001b[34m[35]#011train-rmse:0.13758\u001b[0m\n",
      "\u001b[34m[36]#011train-rmse:0.13379\u001b[0m\n",
      "\u001b[34m[37]#011train-rmse:0.13188\u001b[0m\n",
      "\u001b[34m[38]#011train-rmse:0.13014\u001b[0m\n",
      "\u001b[34m[39]#011train-rmse:0.12835\u001b[0m\n",
      "\u001b[34m[40]#011train-rmse:0.12750\u001b[0m\n",
      "\u001b[34m[41]#011train-rmse:0.12528\u001b[0m\n",
      "\u001b[34m[42]#011train-rmse:0.12228\u001b[0m\n",
      "\u001b[34m[43]#011train-rmse:0.12073\u001b[0m\n",
      "\u001b[34m[44]#011train-rmse:0.11906\u001b[0m\n",
      "\u001b[34m[45]#011train-rmse:0.11700\u001b[0m\n",
      "\u001b[34m[46]#011train-rmse:0.11551\u001b[0m\n",
      "\u001b[34m[47]#011train-rmse:0.11393\u001b[0m\n",
      "\u001b[34m[48]#011train-rmse:0.11339\u001b[0m\n",
      "\u001b[34m[49]#011train-rmse:0.11095\u001b[0m\n",
      "\u001b[34m[50]#011train-rmse:0.10908\u001b[0m\n",
      "\u001b[34m[51]#011train-rmse:0.10680\u001b[0m\n",
      "\u001b[34m[52]#011train-rmse:0.10566\u001b[0m\n",
      "\u001b[34m[53]#011train-rmse:0.10543\u001b[0m\n",
      "\u001b[34m[54]#011train-rmse:0.10453\u001b[0m\n",
      "\u001b[34m[55]#011train-rmse:0.10318\u001b[0m\n",
      "\u001b[34m[56]#011train-rmse:0.10259\u001b[0m\n",
      "\u001b[34m[57]#011train-rmse:0.09992\u001b[0m\n",
      "\u001b[34m[58]#011train-rmse:0.09829\u001b[0m\n",
      "\u001b[34m[59]#011train-rmse:0.09736\u001b[0m\n",
      "\u001b[34m[60]#011train-rmse:0.09714\u001b[0m\n",
      "\u001b[34m[61]#011train-rmse:0.09456\u001b[0m\n",
      "\u001b[34m[62]#011train-rmse:0.09381\u001b[0m\n",
      "\u001b[34m[63]#011train-rmse:0.09305\u001b[0m\n",
      "\u001b[34m[64]#011train-rmse:0.09283\u001b[0m\n",
      "\u001b[34m[65]#011train-rmse:0.09136\u001b[0m\n",
      "\u001b[34m[66]#011train-rmse:0.09069\u001b[0m\n",
      "\u001b[34m[67]#011train-rmse:0.08960\u001b[0m\n",
      "\u001b[34m[68]#011train-rmse:0.08711\u001b[0m\n",
      "\u001b[34m[69]#011train-rmse:0.08534\u001b[0m\n",
      "\u001b[34m[70]#011train-rmse:0.08384\u001b[0m\n",
      "\u001b[34m[71]#011train-rmse:0.08334\u001b[0m\n",
      "\u001b[34m[72]#011train-rmse:0.08257\u001b[0m\n",
      "\u001b[34m[73]#011train-rmse:0.08174\u001b[0m\n",
      "\u001b[34m[74]#011train-rmse:0.08146\u001b[0m\n",
      "\u001b[34m[75]#011train-rmse:0.08096\u001b[0m\n",
      "\u001b[34m[76]#011train-rmse:0.08042\u001b[0m\n",
      "\u001b[34m[77]#011train-rmse:0.07956\u001b[0m\n",
      "\u001b[34m[78]#011train-rmse:0.07718\u001b[0m\n",
      "\u001b[34m[79]#011train-rmse:0.07627\u001b[0m\n",
      "\u001b[34m[80]#011train-rmse:0.07507\u001b[0m\n",
      "\u001b[34m[81]#011train-rmse:0.07477\u001b[0m\n",
      "\u001b[34m[82]#011train-rmse:0.07357\u001b[0m\n",
      "\u001b[34m[83]#011train-rmse:0.07185\u001b[0m\n",
      "\u001b[34m[84]#011train-rmse:0.07054\u001b[0m\n",
      "\u001b[34m[85]#011train-rmse:0.06969\u001b[0m\n",
      "\u001b[34m[86]#011train-rmse:0.06889\u001b[0m\n",
      "\u001b[34m[87]#011train-rmse:0.06738\u001b[0m\n",
      "\u001b[34m[88]#011train-rmse:0.06657\u001b[0m\n",
      "\u001b[34m[89]#011train-rmse:0.06530\u001b[0m\n",
      "\u001b[34m[90]#011train-rmse:0.06470\u001b[0m\n",
      "\u001b[34m[91]#011train-rmse:0.06446\u001b[0m\n",
      "\u001b[34m[92]#011train-rmse:0.06395\u001b[0m\n",
      "\u001b[34m[93]#011train-rmse:0.06334\u001b[0m\n",
      "\u001b[34m[94]#011train-rmse:0.06319\u001b[0m\n",
      "\u001b[34m[95]#011train-rmse:0.06302\u001b[0m\n",
      "\u001b[34m[96]#011train-rmse:0.06121\u001b[0m\n",
      "\u001b[34m[97]#011train-rmse:0.06022\u001b[0m\n",
      "\u001b[34m[98]#011train-rmse:0.06010\u001b[0m\n",
      "\u001b[34m[99]#011train-rmse:0.05944\u001b[0m\n",
      "\n",
      "2025-04-06 14:57:42 Completed - Training job completed\n",
      "Training seconds: 125\n",
      "Billable seconds: 125\n"
     ]
    }
   ],
   "source": [
    "import sagemaker\n",
    "from sagemaker import get_execution_role\n",
    "from sagemaker.inputs import TrainingInput\n",
    "from sagemaker.estimator import Estimator\n",
    "\n",
    "role = get_execution_role()\n",
    "session = sagemaker.Session()\n",
    "\n",
    "# XGBoost Container URI\n",
    "container = sagemaker.image_uris.retrieve(\"xgboost\", session.boto_region_name, version=\"1.5-1\")\n",
    "\n",
    "# Define the estimator\n",
    "xgb_estimator = Estimator(\n",
    "    image_uri=container,\n",
    "    role=role,\n",
    "    instance_count=1,\n",
    "    instance_type=\"ml.m5.large\",\n",
    "    output_path=f\"s3://{s3_bucket}/ml/output/\",\n",
    "    sagemaker_session=session\n",
    ")\n",
    "\n",
    "# Set hyperparameters\n",
    "xgb_estimator.set_hyperparameters(\n",
    "    objective=\"reg:squarederror\",\n",
    "    num_round=100\n",
    ")\n",
    "\n",
    "# Define input data\n",
    "train_input = TrainingInput(s3_data=f\"s3://{s3_bucket}/ml/train/train_data.csv\", content_type=\"csv\")\n",
    "\n",
    "# Train model\n",
    "xgb_estimator.fit({\"train\": train_input})"
   ]
  },
  {
   "cell_type": "code",
   "execution_count": 11,
   "id": "56c04583-0a17-4d73-b765-52fefc1221d9",
   "metadata": {},
   "outputs": [
    {
     "data": {
      "text/html": [
       "<pre style=\"white-space:pre;overflow-x:auto;line-height:normal;font-family:Menlo,'DejaVu Sans Mono',consolas,'Courier New',monospace\"><span style=\"color: #7fbfbf; text-decoration-color: #7fbfbf\">[04/06/25 14:58:15] </span><span style=\"color: #0069ff; text-decoration-color: #0069ff; font-weight: bold\">INFO    </span> Creating model with name: sagemaker-xgboost-<span style=\"color: #008080; text-decoration-color: #008080; font-weight: bold\">2025</span>-04-06-14-58-15-702    <a href=\"file:///home/ec2-user/anaconda3/envs/python3/lib/python3.10/site-packages/sagemaker/session.py\" target=\"_blank\"><span style=\"color: #7f7f7f; text-decoration-color: #7f7f7f\">session.py</span></a><span style=\"color: #7f7f7f; text-decoration-color: #7f7f7f\">:</span><a href=\"file:///home/ec2-user/anaconda3/envs/python3/lib/python3.10/site-packages/sagemaker/session.py#4094\" target=\"_blank\"><span style=\"color: #7f7f7f; text-decoration-color: #7f7f7f\">4094</span></a>\n",
       "</pre>\n"
      ],
      "text/plain": [
       "\u001b[2;36m[04/06/25 14:58:15]\u001b[0m\u001b[2;36m \u001b[0m\u001b[1;38;2;0;105;255mINFO    \u001b[0m Creating model with name: sagemaker-xgboost-\u001b[1;36m2025\u001b[0m-04-06-14-58-15-702    \u001b]8;id=906979;file:///home/ec2-user/anaconda3/envs/python3/lib/python3.10/site-packages/sagemaker/session.py\u001b\\\u001b[2msession.py\u001b[0m\u001b]8;;\u001b\\\u001b[2m:\u001b[0m\u001b]8;id=86053;file:///home/ec2-user/anaconda3/envs/python3/lib/python3.10/site-packages/sagemaker/session.py#4094\u001b\\\u001b[2m4094\u001b[0m\u001b]8;;\u001b\\\n"
      ]
     },
     "metadata": {},
     "output_type": "display_data"
    },
    {
     "data": {
      "text/html": [
       "<pre style=\"white-space:pre;overflow-x:auto;line-height:normal;font-family:Menlo,'DejaVu Sans Mono',consolas,'Courier New',monospace\"><span style=\"color: #7fbfbf; text-decoration-color: #7fbfbf\">[04/06/25 14:58:16] </span><span style=\"color: #0069ff; text-decoration-color: #0069ff; font-weight: bold\">INFO    </span> Creating endpoint-config with name                                     <a href=\"file:///home/ec2-user/anaconda3/envs/python3/lib/python3.10/site-packages/sagemaker/session.py\" target=\"_blank\"><span style=\"color: #7f7f7f; text-decoration-color: #7f7f7f\">session.py</span></a><span style=\"color: #7f7f7f; text-decoration-color: #7f7f7f\">:</span><a href=\"file:///home/ec2-user/anaconda3/envs/python3/lib/python3.10/site-packages/sagemaker/session.py#6019\" target=\"_blank\"><span style=\"color: #7f7f7f; text-decoration-color: #7f7f7f\">6019</span></a>\n",
       "<span style=\"color: #7fbfbf; text-decoration-color: #7fbfbf\">                    </span>         sagemaker-xgboost-<span style=\"color: #008080; text-decoration-color: #008080; font-weight: bold\">2025</span>-04-06-14-58-15-702                              <span style=\"color: #7f7f7f; text-decoration-color: #7f7f7f\">               </span>\n",
       "</pre>\n"
      ],
      "text/plain": [
       "\u001b[2;36m[04/06/25 14:58:16]\u001b[0m\u001b[2;36m \u001b[0m\u001b[1;38;2;0;105;255mINFO    \u001b[0m Creating endpoint-config with name                                     \u001b]8;id=296612;file:///home/ec2-user/anaconda3/envs/python3/lib/python3.10/site-packages/sagemaker/session.py\u001b\\\u001b[2msession.py\u001b[0m\u001b]8;;\u001b\\\u001b[2m:\u001b[0m\u001b]8;id=354685;file:///home/ec2-user/anaconda3/envs/python3/lib/python3.10/site-packages/sagemaker/session.py#6019\u001b\\\u001b[2m6019\u001b[0m\u001b]8;;\u001b\\\n",
       "\u001b[2;36m                    \u001b[0m         sagemaker-xgboost-\u001b[1;36m2025\u001b[0m-04-06-14-58-15-702                              \u001b[2m               \u001b[0m\n"
      ]
     },
     "metadata": {},
     "output_type": "display_data"
    },
    {
     "data": {
      "text/html": [
       "<pre style=\"white-space:pre;overflow-x:auto;line-height:normal;font-family:Menlo,'DejaVu Sans Mono',consolas,'Courier New',monospace\"><span style=\"color: #7fbfbf; text-decoration-color: #7fbfbf\">                    </span><span style=\"color: #0069ff; text-decoration-color: #0069ff; font-weight: bold\">INFO    </span> Creating endpoint with name sagemaker-xgboost-<span style=\"color: #008080; text-decoration-color: #008080; font-weight: bold\">2025</span>-04-06-14-58-15-702  <a href=\"file:///home/ec2-user/anaconda3/envs/python3/lib/python3.10/site-packages/sagemaker/session.py\" target=\"_blank\"><span style=\"color: #7f7f7f; text-decoration-color: #7f7f7f\">session.py</span></a><span style=\"color: #7f7f7f; text-decoration-color: #7f7f7f\">:</span><a href=\"file:///home/ec2-user/anaconda3/envs/python3/lib/python3.10/site-packages/sagemaker/session.py#4841\" target=\"_blank\"><span style=\"color: #7f7f7f; text-decoration-color: #7f7f7f\">4841</span></a>\n",
       "</pre>\n"
      ],
      "text/plain": [
       "\u001b[2;36m                   \u001b[0m\u001b[2;36m \u001b[0m\u001b[1;38;2;0;105;255mINFO    \u001b[0m Creating endpoint with name sagemaker-xgboost-\u001b[1;36m2025\u001b[0m-04-06-14-58-15-702  \u001b]8;id=896881;file:///home/ec2-user/anaconda3/envs/python3/lib/python3.10/site-packages/sagemaker/session.py\u001b\\\u001b[2msession.py\u001b[0m\u001b]8;;\u001b\\\u001b[2m:\u001b[0m\u001b]8;id=809907;file:///home/ec2-user/anaconda3/envs/python3/lib/python3.10/site-packages/sagemaker/session.py#4841\u001b\\\u001b[2m4841\u001b[0m\u001b]8;;\u001b\\\n"
      ]
     },
     "metadata": {},
     "output_type": "display_data"
    },
    {
     "name": "stdout",
     "output_type": "stream",
     "text": [
      "------!"
     ]
    }
   ],
   "source": [
    "# Deploy the model to an endpoint\n",
    "xgb_predictor = xgb_estimator.deploy(\n",
    "    initial_instance_count=1,\n",
    "    instance_type=\"ml.m5.large\"\n",
    ")"
   ]
  },
  {
   "cell_type": "code",
   "execution_count": 12,
   "id": "45cede35-83ed-405f-997c-9ce5a684a50f",
   "metadata": {},
   "outputs": [],
   "source": [
    "location_mapping = {'New York': 0, 'San Francisco': 1, 'Chicago': 2}\n",
    "type_mapping = {'transfer': 0, 'payment': 1, 'withdrawal': 2}\n",
    "\n",
    "sample = {\n",
    "    'amount': 259.5,\n",
    "    'location': location_mapping['New York'],\n",
    "    'transaction_type': type_mapping['transfer']\n",
    "}\n",
    "\n",
    "payload = f\"{sample['amount']},{sample['location']},{sample['transaction_type']}\""
   ]
  },
  {
   "cell_type": "code",
   "execution_count": 13,
   "id": "4b9cff44-71bd-4474-bad9-d0942289c672",
   "metadata": {},
   "outputs": [
    {
     "name": "stdout",
     "output_type": "stream",
     "text": [
      "Index(['0.2', '526526', '895', '4223.11', 'Los Angeles', '0', '1'], dtype='object')\n"
     ]
    }
   ],
   "source": [
    "import pandas as pd\n",
    "df = pd.read_csv('train_data.csv') \n",
    "print(df.columns)\n",
    "\n"
   ]
  },
  {
   "cell_type": "code",
   "execution_count": 14,
   "id": "5b9aaf99-92e8-492a-81df-37288f8a790d",
   "metadata": {},
   "outputs": [
    {
     "name": "stdout",
     "output_type": "stream",
     "text": [
      "['0.2', '526526', '895', '4223.11', 'Los Angeles', '0', '1']\n"
     ]
    }
   ],
   "source": [
    "import pandas as pd\n",
    "\n",
    "df = pd.read_csv('train_data.csv') \n",
    "print(df.columns.tolist())"
   ]
  },
  {
   "cell_type": "code",
   "execution_count": 15,
   "id": "5f248990-5c36-4e03-bcf8-6d12b6b84470",
   "metadata": {},
   "outputs": [
    {
     "name": "stdout",
     "output_type": "stream",
     "text": [
      "['0.2', '526526', '895', '4223.11', 'los angeles', '0', '1']\n"
     ]
    }
   ],
   "source": [
    "df.columns = df.columns.str.strip().str.lower()\n",
    "print(df.columns.tolist())"
   ]
  },
  {
   "cell_type": "code",
   "execution_count": 16,
   "id": "6a1e8885-5801-4666-b72f-13078e128be4",
   "metadata": {},
   "outputs": [
    {
     "name": "stdout",
     "output_type": "stream",
     "text": [
      "Columns in the dataset:\n",
      "['0.2', '526526', '895', '4223.11', 'Los Angeles', '0', '1']\n"
     ]
    }
   ],
   "source": [
    "import pandas as pd\n",
    "\n",
    "df = pd.read_csv('train_data.csv')\n",
    "\n",
    "print(\"Columns in the dataset:\")\n",
    "print(df.columns.tolist())"
   ]
  },
  {
   "cell_type": "code",
   "execution_count": 17,
   "id": "315c8885-8de8-42e7-a119-50b85bf80747",
   "metadata": {},
   "outputs": [
    {
     "name": "stdout",
     "output_type": "stream",
     "text": [
      "✅ Columns in the dataset:\n",
      "['fraud_probability', 'user_id', 'transaction_id', 'amount', 'location', 'transaction_type', 'is_fraud']\n",
      "   fraud_probability  user_id  transaction_id   amount     location  \\\n",
      "0               0.20   526526             895  4223.11  Los Angeles   \n",
      "1               0.64   404096             795  3629.87  Los Angeles   \n",
      "2               0.89   220524             989  3863.93  Los Angeles   \n",
      "3               0.87   358679              36  2908.28  Los Angeles   \n",
      "4               0.22   702622             894    17.56  Los Angeles   \n",
      "\n",
      "   transaction_type  is_fraud  \n",
      "0                 0         1  \n",
      "1                 1         0  \n",
      "2                 1         0  \n",
      "3                 1         0  \n",
      "4                 0         1  \n"
     ]
    }
   ],
   "source": [
    "import pandas as pd\n",
    "\n",
    "# Define correct column names manually\n",
    "column_names = ['fraud_probability', 'user_id', 'transaction_id', 'amount', 'location', 'transaction_type', 'is_fraud']\n",
    "\n",
    "# Read CSV with no header and assign names\n",
    "df = pd.read_csv('train_data.csv', header=None, names=column_names)\n",
    "\n",
    "print(\"✅ Columns in the dataset:\")\n",
    "print(df.columns.tolist())\n",
    "print(df.head())"
   ]
  },
  {
   "cell_type": "code",
   "execution_count": 18,
   "id": "85a52bb7-bdc1-4a52-a5bc-59ef222eef3a",
   "metadata": {},
   "outputs": [],
   "source": [
    "from sklearn.preprocessing import LabelEncoder\n",
    "\n",
    "location_encoder = LabelEncoder()\n",
    "df['location'] = location_encoder.fit_transform(df['location'])\n",
    "\n",
    "type_encoder = LabelEncoder()\n",
    "df['transaction_type'] = type_encoder.fit_transform(df['transaction_type'])"
   ]
  },
  {
   "cell_type": "code",
   "execution_count": 19,
   "id": "db1465bd-c554-4ca6-a321-ffbdd793d73c",
   "metadata": {},
   "outputs": [
    {
     "name": "stdout",
     "output_type": "stream",
     "text": [
      "✅ Encoders saved successfully.\n"
     ]
    }
   ],
   "source": [
    "import pickle\n",
    "\n",
    "# Save location encoder\n",
    "with open('location_encoder.pkl', 'wb') as f:\n",
    "    pickle.dump(location_encoder, f)\n",
    "\n",
    "# Save transaction type encoder\n",
    "with open('type_encoder.pkl', 'wb') as f:\n",
    "    pickle.dump(type_encoder, f)\n",
    "\n",
    "print(\"✅ Encoders saved successfully.\")"
   ]
  },
  {
   "cell_type": "code",
   "execution_count": 20,
   "id": "860fe5df-a1de-4399-b6e8-9af46327d16f",
   "metadata": {},
   "outputs": [
    {
     "name": "stdout",
     "output_type": "stream",
     "text": [
      "✅ Features and labels prepared.\n"
     ]
    }
   ],
   "source": [
    "# Define features and label\n",
    "X = df[['amount', 'location', 'transaction_type']]\n",
    "y = df['is_fraud']\n",
    "\n",
    "print(\"✅ Features and labels prepared.\")"
   ]
  },
  {
   "cell_type": "code",
   "execution_count": 21,
   "id": "830a0edb-02be-416d-b5eb-0659e2d42a5f",
   "metadata": {},
   "outputs": [
    {
     "name": "stdout",
     "output_type": "stream",
     "text": [
      "✅ Processed training data saved.\n"
     ]
    }
   ],
   "source": [
    "processed_df = pd.concat([y, X], axis=1)\n",
    "processed_df.to_csv('processed_train_data.csv', index=False, header=False)\n",
    "print(\"✅ Processed training data saved.\")"
   ]
  },
  {
   "cell_type": "code",
   "execution_count": 22,
   "id": "979cfdc5-2e36-4217-b22d-9b819febb5c1",
   "metadata": {},
   "outputs": [
    {
     "name": "stdout",
     "output_type": "stream",
     "text": [
      "Requirement already satisfied: sagemaker in /home/ec2-user/anaconda3/envs/python3/lib/python3.10/site-packages (2.243.0)\n",
      "Requirement already satisfied: pandas in /home/ec2-user/anaconda3/envs/python3/lib/python3.10/site-packages (1.5.3)\n",
      "Requirement already satisfied: xgboost in /home/ec2-user/anaconda3/envs/python3/lib/python3.10/site-packages (3.0.0)\n",
      "Requirement already satisfied: attrs<24,>=23.1.0 in /home/ec2-user/anaconda3/envs/python3/lib/python3.10/site-packages (from sagemaker) (23.2.0)\n",
      "Requirement already satisfied: boto3<2.0,>=1.35.75 in /home/ec2-user/anaconda3/envs/python3/lib/python3.10/site-packages (from sagemaker) (1.37.22)\n",
      "Requirement already satisfied: cloudpickle>=2.2.1 in /home/ec2-user/anaconda3/envs/python3/lib/python3.10/site-packages (from sagemaker) (3.1.1)\n",
      "Requirement already satisfied: docker in /home/ec2-user/anaconda3/envs/python3/lib/python3.10/site-packages (from sagemaker) (7.1.0)\n",
      "Requirement already satisfied: fastapi in /home/ec2-user/anaconda3/envs/python3/lib/python3.10/site-packages (from sagemaker) (0.115.12)\n",
      "Requirement already satisfied: google-pasta in /home/ec2-user/anaconda3/envs/python3/lib/python3.10/site-packages (from sagemaker) (0.2.0)\n",
      "Requirement already satisfied: importlib-metadata<7.0,>=1.4.0 in /home/ec2-user/anaconda3/envs/python3/lib/python3.10/site-packages (from sagemaker) (6.11.0)\n",
      "Requirement already satisfied: jsonschema in /home/ec2-user/anaconda3/envs/python3/lib/python3.10/site-packages (from sagemaker) (4.23.0)\n",
      "Requirement already satisfied: numpy<2.0,>=1.9.0 in /home/ec2-user/anaconda3/envs/python3/lib/python3.10/site-packages (from sagemaker) (1.26.4)\n",
      "Requirement already satisfied: omegaconf<=2.3,>=2.2 in /home/ec2-user/anaconda3/envs/python3/lib/python3.10/site-packages (from sagemaker) (2.3.0)\n",
      "Requirement already satisfied: packaging>=20.0 in /home/ec2-user/anaconda3/envs/python3/lib/python3.10/site-packages (from sagemaker) (21.3)\n",
      "Requirement already satisfied: pathos in /home/ec2-user/anaconda3/envs/python3/lib/python3.10/site-packages (from sagemaker) (0.3.3)\n",
      "Requirement already satisfied: platformdirs in /home/ec2-user/anaconda3/envs/python3/lib/python3.10/site-packages (from sagemaker) (4.3.6)\n",
      "Requirement already satisfied: protobuf<6.0,>=3.12 in /home/ec2-user/anaconda3/envs/python3/lib/python3.10/site-packages (from sagemaker) (5.29.4)\n",
      "Requirement already satisfied: psutil in /home/ec2-user/anaconda3/envs/python3/lib/python3.10/site-packages (from sagemaker) (6.1.1)\n",
      "Requirement already satisfied: pyyaml~=6.0 in /home/ec2-user/anaconda3/envs/python3/lib/python3.10/site-packages (from sagemaker) (6.0.2)\n",
      "Requirement already satisfied: requests in /home/ec2-user/anaconda3/envs/python3/lib/python3.10/site-packages (from sagemaker) (2.32.3)\n",
      "Requirement already satisfied: sagemaker-core<2.0.0,>=1.0.17 in /home/ec2-user/anaconda3/envs/python3/lib/python3.10/site-packages (from sagemaker) (1.0.27)\n",
      "Requirement already satisfied: schema in /home/ec2-user/anaconda3/envs/python3/lib/python3.10/site-packages (from sagemaker) (0.7.7)\n",
      "Requirement already satisfied: smdebug-rulesconfig==1.0.1 in /home/ec2-user/anaconda3/envs/python3/lib/python3.10/site-packages (from sagemaker) (1.0.1)\n",
      "Requirement already satisfied: tblib<4,>=1.7.0 in /home/ec2-user/anaconda3/envs/python3/lib/python3.10/site-packages (from sagemaker) (3.0.0)\n",
      "Requirement already satisfied: tqdm in /home/ec2-user/anaconda3/envs/python3/lib/python3.10/site-packages (from sagemaker) (4.67.1)\n",
      "Requirement already satisfied: urllib3<3.0.0,>=1.26.8 in /home/ec2-user/anaconda3/envs/python3/lib/python3.10/site-packages (from sagemaker) (2.3.0)\n",
      "Requirement already satisfied: uvicorn in /home/ec2-user/anaconda3/envs/python3/lib/python3.10/site-packages (from sagemaker) (0.34.0)\n",
      "Requirement already satisfied: python-dateutil>=2.8.1 in /home/ec2-user/anaconda3/envs/python3/lib/python3.10/site-packages (from pandas) (2.9.0.post0)\n",
      "Requirement already satisfied: pytz>=2020.1 in /home/ec2-user/anaconda3/envs/python3/lib/python3.10/site-packages (from pandas) (2025.1)\n",
      "Requirement already satisfied: scipy in /home/ec2-user/anaconda3/envs/python3/lib/python3.10/site-packages (from xgboost) (1.15.1)\n",
      "Requirement already satisfied: botocore<1.38.0,>=1.37.22 in /home/ec2-user/anaconda3/envs/python3/lib/python3.10/site-packages (from boto3<2.0,>=1.35.75->sagemaker) (1.37.22)\n",
      "Requirement already satisfied: jmespath<2.0.0,>=0.7.1 in /home/ec2-user/anaconda3/envs/python3/lib/python3.10/site-packages (from boto3<2.0,>=1.35.75->sagemaker) (1.0.1)\n",
      "Requirement already satisfied: s3transfer<0.12.0,>=0.11.0 in /home/ec2-user/anaconda3/envs/python3/lib/python3.10/site-packages (from boto3<2.0,>=1.35.75->sagemaker) (0.11.2)\n",
      "Requirement already satisfied: zipp>=0.5 in /home/ec2-user/anaconda3/envs/python3/lib/python3.10/site-packages (from importlib-metadata<7.0,>=1.4.0->sagemaker) (3.21.0)\n",
      "Requirement already satisfied: antlr4-python3-runtime==4.9.* in /home/ec2-user/anaconda3/envs/python3/lib/python3.10/site-packages (from omegaconf<=2.3,>=2.2->sagemaker) (4.9.3)\n",
      "Requirement already satisfied: pyparsing!=3.0.5,>=2.0.2 in /home/ec2-user/anaconda3/envs/python3/lib/python3.10/site-packages (from packaging>=20.0->sagemaker) (3.2.1)\n",
      "Requirement already satisfied: six>=1.5 in /home/ec2-user/anaconda3/envs/python3/lib/python3.10/site-packages (from python-dateutil>=2.8.1->pandas) (1.17.0)\n",
      "Requirement already satisfied: pydantic<3.0.0,>=2.0.0 in /home/ec2-user/anaconda3/envs/python3/lib/python3.10/site-packages (from sagemaker-core<2.0.0,>=1.0.17->sagemaker) (2.11.0)\n",
      "Requirement already satisfied: rich<14.0.0,>=13.0.0 in /home/ec2-user/anaconda3/envs/python3/lib/python3.10/site-packages (from sagemaker-core<2.0.0,>=1.0.17->sagemaker) (13.9.4)\n",
      "Requirement already satisfied: mock<5.0,>4.0 in /home/ec2-user/anaconda3/envs/python3/lib/python3.10/site-packages (from sagemaker-core<2.0.0,>=1.0.17->sagemaker) (4.0.3)\n",
      "Requirement already satisfied: jsonschema-specifications>=2023.03.6 in /home/ec2-user/anaconda3/envs/python3/lib/python3.10/site-packages (from jsonschema->sagemaker) (2024.10.1)\n",
      "Requirement already satisfied: referencing>=0.28.4 in /home/ec2-user/anaconda3/envs/python3/lib/python3.10/site-packages (from jsonschema->sagemaker) (0.36.2)\n",
      "Requirement already satisfied: rpds-py>=0.7.1 in /home/ec2-user/anaconda3/envs/python3/lib/python3.10/site-packages (from jsonschema->sagemaker) (0.22.3)\n",
      "Requirement already satisfied: charset_normalizer<4,>=2 in /home/ec2-user/anaconda3/envs/python3/lib/python3.10/site-packages (from requests->sagemaker) (3.4.1)\n",
      "Requirement already satisfied: idna<4,>=2.5 in /home/ec2-user/anaconda3/envs/python3/lib/python3.10/site-packages (from requests->sagemaker) (3.10)\n",
      "Requirement already satisfied: certifi>=2017.4.17 in /home/ec2-user/anaconda3/envs/python3/lib/python3.10/site-packages (from requests->sagemaker) (2025.1.31)\n",
      "Requirement already satisfied: starlette<0.47.0,>=0.40.0 in /home/ec2-user/anaconda3/envs/python3/lib/python3.10/site-packages (from fastapi->sagemaker) (0.46.1)\n",
      "Requirement already satisfied: typing-extensions>=4.8.0 in /home/ec2-user/anaconda3/envs/python3/lib/python3.10/site-packages (from fastapi->sagemaker) (4.12.2)\n",
      "Requirement already satisfied: ppft>=1.7.6.9 in /home/ec2-user/anaconda3/envs/python3/lib/python3.10/site-packages (from pathos->sagemaker) (1.7.6.9)\n",
      "Requirement already satisfied: dill>=0.3.9 in /home/ec2-user/anaconda3/envs/python3/lib/python3.10/site-packages (from pathos->sagemaker) (0.3.9)\n",
      "Requirement already satisfied: pox>=0.3.5 in /home/ec2-user/anaconda3/envs/python3/lib/python3.10/site-packages (from pathos->sagemaker) (0.3.5)\n",
      "Requirement already satisfied: multiprocess>=0.70.17 in /home/ec2-user/anaconda3/envs/python3/lib/python3.10/site-packages (from pathos->sagemaker) (0.70.17)\n",
      "Requirement already satisfied: click>=7.0 in /home/ec2-user/anaconda3/envs/python3/lib/python3.10/site-packages (from uvicorn->sagemaker) (8.1.8)\n",
      "Requirement already satisfied: h11>=0.8 in /home/ec2-user/anaconda3/envs/python3/lib/python3.10/site-packages (from uvicorn->sagemaker) (0.14.0)\n",
      "Requirement already satisfied: annotated-types>=0.6.0 in /home/ec2-user/anaconda3/envs/python3/lib/python3.10/site-packages (from pydantic<3.0.0,>=2.0.0->sagemaker-core<2.0.0,>=1.0.17->sagemaker) (0.7.0)\n",
      "Requirement already satisfied: pydantic-core==2.33.0 in /home/ec2-user/anaconda3/envs/python3/lib/python3.10/site-packages (from pydantic<3.0.0,>=2.0.0->sagemaker-core<2.0.0,>=1.0.17->sagemaker) (2.33.0)\n",
      "Requirement already satisfied: typing-inspection>=0.4.0 in /home/ec2-user/anaconda3/envs/python3/lib/python3.10/site-packages (from pydantic<3.0.0,>=2.0.0->sagemaker-core<2.0.0,>=1.0.17->sagemaker) (0.4.0)\n",
      "Requirement already satisfied: markdown-it-py>=2.2.0 in /home/ec2-user/anaconda3/envs/python3/lib/python3.10/site-packages (from rich<14.0.0,>=13.0.0->sagemaker-core<2.0.0,>=1.0.17->sagemaker) (3.0.0)\n",
      "Requirement already satisfied: pygments<3.0.0,>=2.13.0 in /home/ec2-user/anaconda3/envs/python3/lib/python3.10/site-packages (from rich<14.0.0,>=13.0.0->sagemaker-core<2.0.0,>=1.0.17->sagemaker) (2.19.1)\n",
      "Requirement already satisfied: anyio<5,>=3.6.2 in /home/ec2-user/anaconda3/envs/python3/lib/python3.10/site-packages (from starlette<0.47.0,>=0.40.0->fastapi->sagemaker) (4.8.0)\n",
      "Requirement already satisfied: exceptiongroup>=1.0.2 in /home/ec2-user/anaconda3/envs/python3/lib/python3.10/site-packages (from anyio<5,>=3.6.2->starlette<0.47.0,>=0.40.0->fastapi->sagemaker) (1.2.2)\n",
      "Requirement already satisfied: sniffio>=1.1 in /home/ec2-user/anaconda3/envs/python3/lib/python3.10/site-packages (from anyio<5,>=3.6.2->starlette<0.47.0,>=0.40.0->fastapi->sagemaker) (1.3.1)\n",
      "Requirement already satisfied: mdurl~=0.1 in /home/ec2-user/anaconda3/envs/python3/lib/python3.10/site-packages (from markdown-it-py>=2.2.0->rich<14.0.0,>=13.0.0->sagemaker-core<2.0.0,>=1.0.17->sagemaker) (0.1.2)\n",
      "Note: you may need to restart the kernel to use updated packages.\n"
     ]
    }
   ],
   "source": [
    "pip install sagemaker pandas xgboost"
   ]
  },
  {
   "cell_type": "code",
   "execution_count": 23,
   "id": "3dbc6cc1-48d0-4307-ad6c-1e90fb7f7fee",
   "metadata": {},
   "outputs": [
    {
     "name": "stderr",
     "output_type": "stream",
     "text": [
      "/home/ec2-user/anaconda3/envs/python3/lib/python3.10/site-packages/xgboost/core.py:377: FutureWarning: Your system has an old version of glibc (< 2.28). We will stop supporting Linux distros with glibc older than 2.28 after **May 31, 2025**. Please upgrade to a recent Linux distro (with glibc >= 2.28) to use future versions of XGBoost.\n",
      "Note: You have installed the 'manylinux2014' variant of XGBoost. Certain features such as GPU algorithms or federated learning are not available. To use these features, please upgrade to a recent Linux distro with glibc 2.28+, and install the 'manylinux_2_28' variant.\n",
      "  warnings.warn(\n"
     ]
    }
   ],
   "source": [
    "import pandas as pd\n",
    "import xgboost as xgb\n",
    "\n",
    "# Load processed training data\n",
    "df = pd.read_csv('processed_train_data.csv', header=None)\n",
    "\n",
    "# Split features and labels\n",
    "y = df.iloc[:, 0]\n",
    "X = df.iloc[:, 1:]\n",
    "\n",
    "# Convert to DMatrix format\n",
    "dtrain = xgb.DMatrix(X, label=y)"
   ]
  },
  {
   "cell_type": "code",
   "execution_count": 24,
   "id": "60ca27f3-9c51-4d66-9947-1c7e1d74d8cb",
   "metadata": {},
   "outputs": [],
   "source": [
    "params = {\n",
    "    'objective': 'binary:logistic',\n",
    "    'eval_metric': 'logloss'\n",
    "}\n",
    "\n",
    "# Train the model\n",
    "xgb_model = xgb.train(params, dtrain, num_boost_round=50)"
   ]
  },
  {
   "cell_type": "code",
   "execution_count": 25,
   "id": "15b51c87-ed0d-457a-b3cf-f29fe1b5faaa",
   "metadata": {},
   "outputs": [
    {
     "name": "stderr",
     "output_type": "stream",
     "text": [
      "/tmp/ipykernel_6269/3051102634.py:1: UserWarning: [15:01:49] WARNING: /workspace/src/c_api/c_api.cc:1427: Saving model in the UBJSON format as default.  You can use file extension: `json`, `ubj` or `deprecated` to choose between formats.\n",
      "  xgb_model.save_model('model.bst')\n"
     ]
    }
   ],
   "source": [
    "xgb_model.save_model('model.bst')\n",
    "\n",
    "import tarfile\n",
    "with tarfile.open('model.tar.gz', 'w:gz') as tar:\n",
    "    tar.add('model.bst')"
   ]
  },
  {
   "cell_type": "code",
   "execution_count": 26,
   "id": "4f3fc055-50a2-446a-aaf0-748d4ee4ed03",
   "metadata": {},
   "outputs": [
    {
     "name": "stdout",
     "output_type": "stream",
     "text": [
      "✅ Model uploaded to: s3://sagemaker-us-east-1-084375588036/fraud-model/model.tar.gz\n"
     ]
    }
   ],
   "source": [
    "import boto3\n",
    "import sagemaker\n",
    "from sagemaker import get_execution_role\n",
    "\n",
    "s3 = boto3.client('s3')\n",
    "session = sagemaker.Session()\n",
    "bucket = session.default_bucket()  # Or specify your own bucket\n",
    "\n",
    "s3_key = 'fraud-model/model.tar.gz'\n",
    "s3.upload_file('model.tar.gz', bucket, s3_key)\n",
    "\n",
    "model_uri = f's3://{bucket}/{s3_key}'\n",
    "print(\"✅ Model uploaded to:\", model_uri)"
   ]
  },
  {
   "cell_type": "code",
   "execution_count": 1,
   "id": "8e17509b-7298-4f55-a487-5ea7c16d7a7b",
   "metadata": {},
   "outputs": [
    {
     "name": "stdout",
     "output_type": "stream",
     "text": [
      "✅ CSV loaded successfully. First row: [0.2, 526526, 895, 4223.11, 'Los Angeles', 0, 1]\n",
      "✅ Assigned column names: ['transaction_id', 'user_id', 'account_id', 'amount', 'location', 'transaction_type', 'is_fraud']\n",
      "Encoding categorical features...\n",
      "✅ Encoding completed successfully\n",
      "✅ Encoders saved successfully\n",
      "✅ Processed data saved successfully\n"
     ]
    }
   ],
   "source": [
    "import pandas as pd\n",
    "import pickle\n",
    "from sklearn.preprocessing import LabelEncoder\n",
    "\n",
    "# Load dataset with header=None since your file has no proper headers\n",
    "try:\n",
    "    df = pd.read_csv('train_data.csv', header=None)\n",
    "    print(\"✅ CSV loaded successfully. First row:\", df.iloc[0].tolist())\n",
    "    \n",
    "    # Assign proper column names based on your data structure\n",
    "    # Modify these names according to what each column represents\n",
    "    df.columns = [\n",
    "        'transaction_id',  # example: 0.2\n",
    "        'user_id',        # example: 526526\n",
    "        'account_id',     # example: 895\n",
    "        'amount',         # example: 4223.11\n",
    "        'location',       # example: Los Angeles\n",
    "        'transaction_type', # example: 0\n",
    "        'is_fraud'        # example: 1\n",
    "    ]\n",
    "    print(\"✅ Assigned column names:\", df.columns.tolist())\n",
    "except Exception as e:\n",
    "    print(\"❌ Error loading CSV:\", e)\n",
    "    exit()\n",
    "\n",
    "# Verify we have the expected columns\n",
    "required_columns = ['amount', 'location', 'transaction_type', 'is_fraud']\n",
    "missing_columns = [col for col in required_columns if col not in df.columns]\n",
    "if missing_columns:\n",
    "    print(f\"❌ Missing required columns: {missing_columns}\")\n",
    "    print(\"Available columns:\", df.columns.tolist())\n",
    "    exit()\n",
    "\n",
    "# Encode categorical features\n",
    "try:\n",
    "    print(\"Encoding categorical features...\")\n",
    "    location_encoder = LabelEncoder()\n",
    "    df['location'] = location_encoder.fit_transform(df['location'])\n",
    "\n",
    "    type_encoder = LabelEncoder()\n",
    "    df['transaction_type'] = type_encoder.fit_transform(df['transaction_type'])\n",
    "    print(\"✅ Encoding completed successfully\")\n",
    "except Exception as e:\n",
    "    print(\"❌ Encoding error:\", e)\n",
    "    exit()\n",
    "\n",
    "# Save encoders\n",
    "try:\n",
    "    with open('location_encoder.pkl', 'wb') as f:\n",
    "        pickle.dump(location_encoder, f)\n",
    "    with open('type_encoder.pkl', 'wb') as f:\n",
    "        pickle.dump(type_encoder, f)\n",
    "    print(\"✅ Encoders saved successfully\")\n",
    "except Exception as e:\n",
    "    print(\"❌ Error saving encoders:\", e)\n",
    "    exit()\n",
    "\n",
    "# Create features and labels\n",
    "try:\n",
    "    X = df[['amount', 'location', 'transaction_type']]\n",
    "    y = df['is_fraud']\n",
    "    processed_df = pd.concat([y, X], axis=1)\n",
    "    processed_df.to_csv('processed_train_data.csv', index=False, header=False)\n",
    "    print(\"✅ Processed data saved successfully\")\n",
    "except Exception as e:\n",
    "    print(\"❌ Error processing training data:\", e)\n",
    "    exit()"
   ]
  },
  {
   "cell_type": "code",
   "execution_count": 2,
   "id": "3dba7cbc-98ab-40a8-a286-d330524d47d1",
   "metadata": {},
   "outputs": [],
   "source": [
    "df.columns = [\n",
    "    'transaction_id',  # change if this is something else\n",
    "    'user_id',        # change if this is something else\n",
    "    'account_id',     # change if this is something else\n",
    "    'amount',         # appears to be monetary amount\n",
    "    'location',       # appears to be city name\n",
    "    'transaction_type', # appears to be numeric code\n",
    "    'is_fraud'        # appears to be fraud label (0/1)\n",
    "]"
   ]
  },
  {
   "cell_type": "code",
   "execution_count": 3,
   "id": "0bc816ec-a11b-4792-b7ee-cf32a753244f",
   "metadata": {},
   "outputs": [
    {
     "name": "stdout",
     "output_type": "stream",
     "text": [
      "✅ Processed data loaded successfully\n",
      "Data shape - Features: (870, 3), Target: (870,)\n",
      "Fraud rate: 47.36%\n",
      "\n",
      "Train set: 696 samples\n",
      "Test set: 174 samples\n",
      "\n",
      "Training Random Forest model...\n",
      "✅ Model trained successfully\n",
      "\n",
      "Model Evaluation:\n",
      "\n",
      "Classification Report:\n",
      "              precision    recall  f1-score   support\n",
      "\n",
      "           0       1.00      1.00      1.00        92\n",
      "           1       1.00      1.00      1.00        82\n",
      "\n",
      "    accuracy                           1.00       174\n",
      "   macro avg       1.00      1.00      1.00       174\n",
      "weighted avg       1.00      1.00      1.00       174\n",
      "\n",
      "\n",
      "Confusion Matrix:\n",
      "[[92  0]\n",
      " [ 0 82]]\n",
      "\n",
      "ROC AUC Score: 1.0000\n",
      "\n",
      "✅ Model saved as 'fraud_detection_model.pkl'\n",
      "\n",
      "Fraud detection pipeline completed successfully!\n"
     ]
    }
   ],
   "source": [
    "import pandas as pd\n",
    "import pickle\n",
    "from sklearn.model_selection import train_test_split\n",
    "from sklearn.ensemble import RandomForestClassifier\n",
    "from sklearn.metrics import classification_report, confusion_matrix, roc_auc_score\n",
    "\n",
    "# Load processed data\n",
    "try:\n",
    "    # Note: We use header=None because we saved without headers\n",
    "    processed_df = pd.read_csv('processed_train_data.csv', header=None)\n",
    "    print(\"✅ Processed data loaded successfully\")\n",
    "    \n",
    "    # Split into features (X) and target (y)\n",
    "    # Column 0 is the target (is_fraud), columns 1-3 are features\n",
    "    X = processed_df.iloc[:, 1:4]  # amount, location, transaction_type\n",
    "    y = processed_df.iloc[:, 0]    # is_fraud\n",
    "    \n",
    "    print(f\"Data shape - Features: {X.shape}, Target: {y.shape}\")\n",
    "    print(f\"Fraud rate: {y.mean():.2%}\")  # Show class imbalance\n",
    "except Exception as e:\n",
    "    print(\"❌ Error loading processed data:\", e)\n",
    "    exit()\n",
    "\n",
    "# Split into train and test sets\n",
    "X_train, X_test, y_train, y_test = train_test_split(\n",
    "    X, y, test_size=0.2, random_state=42, stratify=y\n",
    ")\n",
    "print(f\"\\nTrain set: {X_train.shape[0]} samples\")\n",
    "print(f\"Test set: {X_test.shape[0]} samples\")\n",
    "\n",
    "# Train Random Forest classifier\n",
    "try:\n",
    "    print(\"\\nTraining Random Forest model...\")\n",
    "    model = RandomForestClassifier(\n",
    "        n_estimators=100,\n",
    "        max_depth=10,\n",
    "        random_state=42,\n",
    "        class_weight='balanced'  # Important for imbalanced fraud detection\n",
    "    )\n",
    "    model.fit(X_train, y_train)\n",
    "    print(\"✅ Model trained successfully\")\n",
    "except Exception as e:\n",
    "    print(\"❌ Error training model:\", e)\n",
    "    exit()\n",
    "\n",
    "# Evaluate model\n",
    "try:\n",
    "    print(\"\\nModel Evaluation:\")\n",
    "    \n",
    "    # Test set predictions\n",
    "    y_pred = model.predict(X_test)\n",
    "    y_proba = model.predict_proba(X_test)[:, 1]  # Probability of fraud\n",
    "    \n",
    "    # Metrics\n",
    "    print(\"\\nClassification Report:\")\n",
    "    print(classification_report(y_test, y_pred))\n",
    "    \n",
    "    print(\"\\nConfusion Matrix:\")\n",
    "    print(confusion_matrix(y_test, y_pred))\n",
    "    \n",
    "    print(f\"\\nROC AUC Score: {roc_auc_score(y_test, y_proba):.4f}\")\n",
    "except Exception as e:\n",
    "    print(\"❌ Error evaluating model:\", e)\n",
    "    exit()\n",
    "\n",
    "# Save the trained model\n",
    "try:\n",
    "    with open('fraud_detection_model.pkl', 'wb') as f:\n",
    "        pickle.dump(model, f)\n",
    "    print(\"\\n✅ Model saved as 'fraud_detection_model.pkl'\")\n",
    "except Exception as e:\n",
    "    print(\"❌ Error saving model:\", e)\n",
    "    exit()\n",
    "\n",
    "print(\"\\nFraud detection pipeline completed successfully!\")"
   ]
  },
  {
   "cell_type": "code",
   "execution_count": 14,
   "id": "6f83c117-2391-4800-9656-0f376039c9fe",
   "metadata": {},
   "outputs": [
    {
     "name": "stdout",
     "output_type": "stream",
     "text": [
      "Prediction: 0.5881953835487366\n",
      "\n"
     ]
    }
   ],
   "source": [
    "import boto3\n",
    "\n",
    "runtime = boto3.client('sagemaker-runtime')\n",
    "\n",
    "# Assume Los Angeles → 3\n",
    "csv_input = \"0.5,1500.0,3\"\n",
    "\n",
    "response = runtime.invoke_endpoint(\n",
    "    EndpointName='sagemaker-xgboost-2025-04-06-14-50-16-020',\n",
    "    ContentType='text/csv',\n",
    "    Body=csv_input\n",
    ")\n",
    "\n",
    "prediction = response['Body'].read().decode('utf-8')\n",
    "print(\"Prediction:\", prediction)"
   ]
  },
  {
   "cell_type": "code",
   "execution_count": 16,
   "id": "20be1908-517d-43b7-a10d-4d35976ca4d5",
   "metadata": {},
   "outputs": [],
   "source": [
    "import pickle\n",
    "import pandas as pd\n",
    "\n",
    "# Load encoder\n",
    "with open('location_encoder.pkl', 'rb') as f:\n",
    "    location_encoder = pickle.load(f)\n",
    "\n",
    "# Encode new input\n",
    "location_encoded = location_encoder.transform(['Los Angeles'])[0]\n",
    "\n",
    "# Then build input string\n",
    "csv_input = f\"0.37,1837.0,{location_encoded}\""
   ]
  },
  {
   "cell_type": "code",
   "execution_count": 17,
   "id": "d5c6c845-99f4-49ff-926d-5cf5f7c7be41",
   "metadata": {},
   "outputs": [
    {
     "name": "stdout",
     "output_type": "stream",
     "text": [
      "Prediction: 0.5881953835487366\n",
      "\n"
     ]
    }
   ],
   "source": [
    "import pickle\n",
    "import boto3\n",
    "import pandas as pd\n",
    "\n",
    "# Load the location encoder\n",
    "with open('location_encoder.pkl', 'rb') as f:\n",
    "    location_encoder = pickle.load(f)\n",
    "\n",
    "# Encode the location\n",
    "location_encoded = location_encoder.transform(['Los Angeles'])[0]\n",
    "\n",
    "# Build the CSV input string\n",
    "csv_input = f\"0.5,1500.0,{location_encoded}\"\n",
    "\n",
    "# Invoke SageMaker endpoint\n",
    "runtime = boto3.client('sagemaker-runtime')\n",
    "\n",
    "response = runtime.invoke_endpoint(\n",
    "    EndpointName='sagemaker-xgboost-2025-04-06-14-50-16-020',  # Replace with your actual endpoint name\n",
    "    ContentType='text/csv',\n",
    "    Body=csv_input\n",
    ")\n",
    "\n",
    "# Decode and print the prediction\n",
    "prediction = response['Body'].read().decode('utf-8')\n",
    "print(\"Prediction:\", prediction)"
   ]
  },
  {
   "cell_type": "code",
   "execution_count": 18,
   "id": "e047784f-95cc-4371-8363-b305a8c3139f",
   "metadata": {},
   "outputs": [
    {
     "name": "stdout",
     "output_type": "stream",
     "text": [
      "Prediction: 0.5881953835487366\n",
      "\n"
     ]
    }
   ],
   "source": [
    "import pickle\n",
    "import boto3\n",
    "import pandas as pd\n",
    "\n",
    "# Load the location encoder\n",
    "with open('location_encoder.pkl', 'rb') as f:\n",
    "    location_encoder = pickle.load(f)\n",
    "\n",
    "# Encode the location\n",
    "location_encoded = location_encoder.transform(['New York'])[0]\n",
    "\n",
    "# Build the CSV input string\n",
    "csv_input = f\"0.5,1500.0,{location_encoded}\"\n",
    "\n",
    "# Invoke SageMaker endpoint\n",
    "runtime = boto3.client('sagemaker-runtime')\n",
    "\n",
    "response = runtime.invoke_endpoint(\n",
    "    EndpointName='sagemaker-xgboost-2025-04-06-14-50-16-020',  # Replace with your actual endpoint name\n",
    "    ContentType='text/csv',\n",
    "    Body=csv_input\n",
    ")\n",
    "\n",
    "# Decode and print the prediction\n",
    "prediction = response['Body'].read().decode('utf-8')\n",
    "print(\"Prediction:\", prediction)"
   ]
  },
  {
   "cell_type": "code",
   "execution_count": 26,
   "id": "8b50c063-a971-44b9-893d-af5f8e3e43d7",
   "metadata": {},
   "outputs": [
    {
     "name": "stdout",
     "output_type": "stream",
     "text": [
      "Notifications sent for all fraudulent transactions.\n"
     ]
    }
   ],
   "source": [
    "import pandas as pd\n",
    "import boto3\n",
    "\n",
    "# Load CSV\n",
    "df = pd.read_csv('train_data_1.csv')\n",
    "\n",
    "# Initialize SNS\n",
    "sns = boto3.client('sns', region_name='us-east-1')  # Change region if needed\n",
    "topic_arn = 'arn:aws:sns:us-east-1:084375588036:Fraud-alert'  # Replace with your ARN\n",
    "\n",
    "# Filter fraudulent transactions\n",
    "fraud_transactions = df[df['is_fraud'] == 1]\n",
    "\n",
    "# Notify for each fraudulent transaction\n",
    "for index, row in fraud_transactions.iterrows():\n",
    "    message = (\n",
    "        f\"🚨 Fraudulent Transaction Detected!\\n\"\n",
    "        f\"Amount: ${row['amount']}\\n\"\n",
    "        f\"User ID: {row['user_id']}\\n\"\n",
    "        f\"Transaction ID: {row['transaction_id']}\\n\"\n",
    "        f\"Location: {row['location']}\\n\"\n",
    "    )\n",
    "    sns.publish(\n",
    "        TopicArn=topic_arn,\n",
    "        Message=message,\n",
    "        Subject=\"Fraud Alert Notification\"\n",
    "    )\n",
    "\n",
    "print(\"Notifications sent for all fraudulent transactions.\")\n"
   ]
  },
  {
   "cell_type": "code",
   "execution_count": null,
   "id": "95e1fcc9-1ca8-499e-b43e-e00b1f352951",
   "metadata": {},
   "outputs": [],
   "source": []
  }
 ],
 "metadata": {
  "kernelspec": {
   "display_name": "conda_python3",
   "language": "python",
   "name": "conda_python3"
  },
  "language_info": {
   "codemirror_mode": {
    "name": "ipython",
    "version": 3
   },
   "file_extension": ".py",
   "mimetype": "text/x-python",
   "name": "python",
   "nbconvert_exporter": "python",
   "pygments_lexer": "ipython3",
   "version": "3.10.16"
  }
 },
 "nbformat": 4,
 "nbformat_minor": 5
}
